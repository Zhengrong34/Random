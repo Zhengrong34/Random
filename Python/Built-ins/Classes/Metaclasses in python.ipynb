{
 "cells": [
  {
   "cell_type": "code",
   "execution_count": 209,
   "metadata": {},
   "outputs": [],
   "source": [
    "from sys import version_info\n",
    "version_info\n",
    "\n",
    "def print_util(func):\n",
    "    # print object instance / function result\n",
    "    def util(*a,**kw):\n",
    "        result = func(*a,**kw)\n",
    "        print(a[-1],result)\n",
    "        return result\n",
    "    return util"
   ]
  },
  {
   "cell_type": "markdown",
   "metadata": {},
   "source": [
    "# Process of instance creation\n",
    "\n",
    "difference between \\__new__ and \\__init__\n"
   ]
  },
  {
   "cell_type": "code",
   "execution_count": 204,
   "metadata": {},
   "outputs": [
    {
     "name": "stdout",
     "output_type": "stream",
     "text": [
      "Foo allocated __new__ is called\n",
      "2177923459504\n",
      "2177923459504\n",
      "id of object from new is the same as self\n",
      "__dir__ is a <class 'method_descriptor'> object\n",
      "Is __dir__ a dict\n",
      "Foo initialisation after __new__, __init__ called\n"
     ]
    }
   ],
   "source": [
    "class Foo:\n",
    "    def __new__(cls,*a,**kw):\n",
    "        print(\"{} allocated __new__ is called\".format(cls.__name__))\n",
    "        obj = super().__new__(cls) \n",
    "        # used when u need to hook into obj creation - immuatable \n",
    "        obj.d = \"assignment can happen in __new__\"\n",
    "        print(id(obj))\n",
    "        return obj\n",
    "    \n",
    "    # object created from new passed to __init__ as self\n",
    "    def __init__(self,*a,**kw):\n",
    "        print(id(self))\n",
    "        print(\"id of object from new is the same as self\")\n",
    "        \n",
    "        # self has no __name__. __name__ belongs to class\n",
    "        cls = self.__class__  \n",
    "        \n",
    "        # instance object dir look up is from class\n",
    "        # pass __dir__ in new instance __dir__ cannot be change\n",
    "        # likewise __call__ and __len__ is attached to class\n",
    "        new_dir = self.__class__.__dir__\n",
    "        \n",
    "        print(\"__dir__ is a {} object\".format(type(new_dir)))\n",
    "        print(\"Is __dir__ a dict\".format(isinstance(new_dir,dict)))\n",
    "        self.__class__.__dir__ = { str(i):j for i,j in zip(range(len(a)),a)}\n",
    "        print(\"{0} initialisation after __new__, __init__ called\".format(cls.__name__))\n",
    "        \n",
    "a = Foo(1,2,3)"
   ]
  },
  {
   "cell_type": "markdown",
   "metadata": {},
   "source": [
    "# Using New vs Init\n",
    "\n",
    "- \\__init__ returns None\n",
    "- so it means that object is created before init\n",
    "- what if you want to return a int object \n",
    "- during object creation, pass in int"
   ]
  },
  {
   "cell_type": "code",
   "execution_count": 213,
   "metadata": {},
   "outputs": [
    {
     "name": "stdout",
     "output_type": "stream",
     "text": [
      "34.545 34\n",
      "3.545 3\n"
     ]
    },
    {
     "data": {
      "text/plain": [
       "type"
      ]
     },
     "execution_count": 213,
     "metadata": {},
     "output_type": "execute_result"
    }
   ],
   "source": [
    "class PositiveInteger(int): \n",
    "    @print_util\n",
    "    def __new__(cls, a):\n",
    "        if a > 0:\n",
    "            return super().__new__(cls,a)\n",
    "        else:\n",
    "            raise ValueError\n",
    "\n",
    "PositiveInteger(34.545)\n",
    "PositiveInteger(3.545)\n",
    "#PositiveInteger(-3)\n",
    "type(PositiveInteger)"
   ]
  },
  {
   "cell_type": "markdown",
   "metadata": {},
   "source": [
    "# Metaclasses and object model in Python\n",
    "\n",
    "- type(instance) == class\n",
    "- type(class) ==? -- metaclass\n",
    "- from above type(PositiveInterger) == type\n",
    "- what is metaclass? -- creation of class\n"
   ]
  },
  {
   "cell_type": "markdown",
   "metadata": {},
   "source": [
    "## Application of metaclassing\n",
    "\n",
    "Base class enforcing constraint on derived class\n",
    "\n",
    "eg. Bar(Foo) and Foo wants to enforce something on Bar\n",
    "\n",
    "- Derive and Base both will invoke metaclass\n",
    "- Contraint in metaclass propagate to subclasses"
   ]
  },
  {
   "cell_type": "code",
   "execution_count": 222,
   "metadata": {},
   "outputs": [
    {
     "name": "stdout",
     "output_type": "stream",
     "text": [
      "True\n",
      "True\n",
      "True\n"
     ]
    },
    {
     "data": {
      "text/plain": [
       "(list, dict, tuple, abc.ABCMeta)"
      ]
     },
     "execution_count": 222,
     "metadata": {},
     "output_type": "execute_result"
    }
   ],
   "source": [
    "from collections import Iterable\n",
    "# Sometimes you just need to iterate through sth \n",
    "# - be it a list / tuple / dict\n",
    "\n",
    "print(isinstance([],Iterable))\n",
    "print((isinstance((),Iterable)))\n",
    "print((isinstance({},Iterable)))\n",
    "\n",
    "type([]), type({}), type(()), type(Iterable)\n",
    "\n",
    "# dict tuple list are instances of iterable?"
   ]
  },
  {
   "cell_type": "code",
   "execution_count": 225,
   "metadata": {},
   "outputs": [
    {
     "name": "stdout",
     "output_type": "stream",
     "text": [
      "Hooked into Derived during class creation\n"
     ]
    }
   ],
   "source": [
    "class metaclass(type):\n",
    "    def __new__(cls, *a):\n",
    "        return type.__new__(cls,*a)\n",
    "    \n",
    "    def __init__(self,name,base,body):\n",
    "        if name == \"Derived\":\n",
    "            print(\"Hooked into Derived during class creation\")\n",
    "        \n",
    "    \n",
    "class Base(metaclass=metaclass):\n",
    "    pass\n",
    "\n",
    "class Derived(Base):\n",
    "    pass"
   ]
  },
  {
   "cell_type": "code",
   "execution_count": null,
   "metadata": {},
   "outputs": [],
   "source": []
  },
  {
   "cell_type": "code",
   "execution_count": null,
   "metadata": {},
   "outputs": [],
   "source": []
  },
  {
   "cell_type": "code",
   "execution_count": null,
   "metadata": {},
   "outputs": [],
   "source": []
  },
  {
   "cell_type": "code",
   "execution_count": null,
   "metadata": {},
   "outputs": [],
   "source": []
  }
 ],
 "metadata": {
  "kernelspec": {
   "display_name": "Python 3",
   "language": "python",
   "name": "python3"
  },
  "language_info": {
   "codemirror_mode": {
    "name": "ipython",
    "version": 3
   },
   "file_extension": ".py",
   "mimetype": "text/x-python",
   "name": "python",
   "nbconvert_exporter": "python",
   "pygments_lexer": "ipython3",
   "version": "3.6.5"
  }
 },
 "nbformat": 4,
 "nbformat_minor": 2
}
