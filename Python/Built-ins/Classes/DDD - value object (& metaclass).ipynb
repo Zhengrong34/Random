{
 "cells": [
  {
   "cell_type": "code",
   "execution_count": 45,
   "metadata": {},
   "outputs": [],
   "source": [
    "class email:\n",
    "    @classmethod\n",
    "    def from_text(cls,name):\n",
    "        if \"@\" not in name:\n",
    "            raise ValueError(\"no @\")\n",
    "        else:\n",
    "            name, k ,domain = name.partition(\"@\")\n",
    "            #print(name,k,domain)\n",
    "            return cls(name,domain)\n",
    "        \n",
    "    def __init__(self,name,domain):\n",
    "        self.name = name\n",
    "        self.domain = domain\n",
    "        \n",
    "    def __repr__(self):\n",
    "        return \"email is {}@{}\".format(self.name,self.domain)\n",
    "    \n",
    "    def __str__(self):\n",
    "        return self.__repr__() + \" str\""
   ]
  },
  {
   "cell_type": "markdown",
   "metadata": {},
   "source": [
    "Every domain model as an python object\n"
   ]
  },
  {
   "cell_type": "code",
   "execution_count": 46,
   "metadata": {},
   "outputs": [],
   "source": [
    "a = email.from_text('hello@12@3.com')"
   ]
  },
  {
   "cell_type": "code",
   "execution_count": null,
   "metadata": {},
   "outputs": [],
   "source": []
  },
  {
   "cell_type": "markdown",
   "metadata": {},
   "source": [
    "# Metaclass, \\_\\_new___, \\_\\_init__\n",
    "\n",
    "\n",
    "1. uses metaclass animalbase as to collect class instantiated\n",
    "2. extention: attach metaclass to animal then inherit animal from dog cats pigeons\n",
    "3. new - for object creation (can create immut\n",
    "4. init - to attach properties to obj passed after created from new"
   ]
  },
  {
   "cell_type": "code",
   "execution_count": 1,
   "metadata": {},
   "outputs": [],
   "source": [
    "class AnimalBase(type):\n",
    "    animal_list = {}\n",
    "    cls_list= {}\n",
    "    animal_bse = None\n",
    "    def __new__(cls, name, bases, dct):\n",
    "        AnimalBase.animal_list[name]=dct\n",
    "        AnimalBase.animal_bse=cls\n",
    "        x = super().__new__(cls, name, bases, dct)\n",
    "        AnimalBase.cls_list[name]=x\n",
    "        return x\n",
    "\n",
    "    #def __repr__(self):\n",
    "    #    return 'animals'\n",
    "\n",
    "class cats(metaclass=AnimalBase):\n",
    "    def __new__(cls):\n",
    "        return super(cats, cls).__new__(cls)\n",
    "    def __init__(self,name):\n",
    "        print('meow')\n",
    "        print(name)\n",
    "        return self\n",
    "    pass\n",
    "\n",
    "class dogs(metaclass=AnimalBase):\n",
    "    def __new__(cls):\n",
    "        return super(dogs, cls).__new__(cls)\n",
    "    \n",
    "    \n",
    "    def __init__(self,name):\n",
    "        print('woof')\n",
    "        print(name)\n",
    "        return self\n",
    "    pass\n",
    "\n",
    "class pigeons(metaclass=AnimalBase):\n",
    "    def __new__(cls):\n",
    "        return super(pigeons, cls).__new__(cls)\n",
    "    # if i over write repr of my meta class then type a will change\n",
    "        \n",
    "    def __init__(self,name,p):\n",
    "        print('peek')\n",
    "        self.name = \"pigeon \"+ name\n",
    "        return self\n",
    "    \n",
    "class Animal(metaclass=AnimalBase):\n",
    "    def __new__(cls):\n",
    "        return super(Animal, cls).__new__(cls)\n",
    "    # if i over write repr of my meta class then type a will change\n",
    "        \n",
    "    def __init__(self,name,Atype,*a,**kw):\n",
    "        self.Atype = Atype\n",
    "        return self"
   ]
  },
  {
   "cell_type": "code",
   "execution_count": null,
   "metadata": {},
   "outputs": [],
   "source": []
  },
  {
   "cell_type": "code",
   "execution_count": 2,
   "metadata": {},
   "outputs": [
    {
     "name": "stdout",
     "output_type": "stream",
     "text": [
      "woof\n",
      "gow\n",
      "peek\n",
      "woof\n",
      "gow\n",
      "peek\n"
     ]
    },
    {
     "data": {
      "text/plain": [
       "(__main__.dogs, __main__.pigeons, type, __main__.Animal)"
      ]
     },
     "execution_count": 2,
     "metadata": {},
     "output_type": "execute_result"
    }
   ],
   "source": [
    "def animal_factory(name,type,*args, **kwargs):\n",
    "    # POWER OF *ARGS AND *KW\n",
    "    # PIGEONS TAKE 3 ARG SO I DELAY AND PUSH TO OBJ CREATION AND DECIDE PARAM OF PIGEONS\n",
    "    animal_obj=AnimalBase.cls_list[type]\n",
    "    final = animal_obj.__new__(animal_obj).__init__(name,*args,**kwargs)\n",
    "    return final\n",
    "\n",
    "a_1 = animal_factory(\"gow\",'dogs')\n",
    "b_1 = animal_factory('new','pigeons','d')\n",
    "\n",
    "\n",
    "## convert all types to animal\n",
    "\n",
    "def animal_factory2(name,Atype,*args, **kwargs):\n",
    "    # POWER OF *ARGS AND *KW\n",
    "    # PIGEONS TAKE 3 ARG SO I DELAY AND PUSH TO OBJ CREATION AND DECIDE PARAM OF PIGEONS\n",
    "    animal_obj=AnimalBase.animal_bse\n",
    "    animal_dict=AnimalBase.animal_list\n",
    "    init= animal_dict[Atype][\"__init__\"]\n",
    "    final = init(animal_obj,name,*args,**kwargs)\n",
    "    return final\n",
    "\n",
    "a_2 = animal_factory2(\"gow\",'dogs')\n",
    "b_2 = animal_factory2('new','pigeons','d')\n",
    "\n",
    "\n",
    "def animal_factory3(name,Atype,*args, **kwargs):\n",
    "    animal_obj=AnimalBase.cls_list[\"Animal\"]\n",
    "    final = animal_obj.__new__(animal_obj).__init__(name, Atype, *args, **kwargs)\n",
    "    return final\n",
    "\n",
    "a_3 = animal_factory3(\"gow\",'dogs')\n",
    "b_3 = animal_factory3('new','pigeons','d','d')\n",
    "\n",
    "a_1,b_1,a_2,b_2\n",
    "\n",
    "type(a_1),type(b_1),type(a_2),type(a_3)"
   ]
  },
  {
   "cell_type": "code",
   "execution_count": 572,
   "metadata": {},
   "outputs": [
    {
     "data": {
      "text/plain": [
       "(True, False, False)"
      ]
     },
     "execution_count": 572,
     "metadata": {},
     "output_type": "execute_result"
    }
   ],
   "source": [
    "isinstance(dogs,Animal) , isinstance(a,dogs) , isinstance(a,Animal)"
   ]
  },
  {
   "cell_type": "code",
   "execution_count": null,
   "metadata": {},
   "outputs": [],
   "source": []
  },
  {
   "cell_type": "code",
   "execution_count": null,
   "metadata": {},
   "outputs": [],
   "source": []
  },
  {
   "cell_type": "code",
   "execution_count": null,
   "metadata": {},
   "outputs": [],
   "source": []
  },
  {
   "cell_type": "code",
   "execution_count": null,
   "metadata": {},
   "outputs": [],
   "source": []
  },
  {
   "cell_type": "code",
   "execution_count": null,
   "metadata": {},
   "outputs": [],
   "source": []
  }
 ],
 "metadata": {
  "kernelspec": {
   "display_name": "Python 3",
   "language": "python",
   "name": "python3"
  },
  "language_info": {
   "codemirror_mode": {
    "name": "ipython",
    "version": 3
   },
   "file_extension": ".py",
   "mimetype": "text/x-python",
   "name": "python",
   "nbconvert_exporter": "python",
   "pygments_lexer": "ipython3",
   "version": "3.7.3"
  }
 },
 "nbformat": 4,
 "nbformat_minor": 2
}
