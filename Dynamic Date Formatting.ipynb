{
 "cells": [
  {
   "cell_type": "code",
   "execution_count": 10,
   "metadata": {},
   "outputs": [],
   "source": [
    "import datetime\n",
    "\n",
    "\n",
    "def FormatDate(Date,Format):\n",
    "    \"\"\"\n",
    "    @Input:\n",
    "    Date: date object eg. datetime.date(2002, 3, 4)\n",
    "    Format: string - each individual date parts must be defined within DateSwitch object \n",
    "    and must its length must be between 2-4 letters and starts with a capital letter\n",
    "    \n",
    "    @Note:\n",
    "    takes a date object and format it according to specification.\n",
    "    \"\"\"\n",
    "    import datetime\n",
    "    if not Format:\n",
    "        return \"\"\n",
    "    else:\n",
    "        slen = len(Format)\n",
    "        LongMonth=[\"January\" , \"February\" , \"March\" , \"April\", \"May\",\n",
    "            \"June\", \"July\", \"August\", \"September\", \"October\",\n",
    "            \"November\", \"December\"]\n",
    "        \n",
    "        ShortMonth=[\"Jan\" , \"Feb\" , \"Mar\" , \"Apr\", \"May\",\n",
    "        \"Jun\", \"Jul\", \"Aug\", \"Sep\", \"Oct\",\n",
    "        \"Nov\", \"Dec\"]\n",
    "        \n",
    "        End = {\n",
    "            '1':\"st\",\n",
    "            '2':\"nd\",\n",
    "            '3':\"rd\",\n",
    "        }\n",
    "        \n",
    "        def HandleSuffix(day):\n",
    "            temp =  str(day)\n",
    "            if str(Date.day) in End:\n",
    "                temp = temp+End[str(Date.day)]\n",
    "            else:\n",
    "                temp = temp+\"th\"\n",
    "            return temp\n",
    "                \n",
    "        \n",
    "        DateSwitch = {\n",
    "            \"MM\": str(Date.month),\n",
    "            \"MMM\": LongMonth[Date.month-1],\n",
    "            \"Mmm\": ShortMonth[Date.month-1],\n",
    "            \"DD\": str(Date.day) if len(str(Date.day)) == 2 else \"0\"+str(Date.day),\n",
    "            \"Dd\": str(Date.day),\n",
    "            #\"DDvb\": str(Date.day) if str(Date.day)[-1] not in End else str(Date.day)+End[str(Date.day)[-1]],\n",
    "            \"DDvb\": HandleSuffix(Date.day),\n",
    "            \"YYYY\": str(Date.year),\n",
    "            \"YY\": str(Date.year)[-2:]\n",
    "        }\n",
    "        \n",
    "        for i in range(slen):\n",
    "            for j in range(4,1,-1):\n",
    "                if Format[i:j] in DateSwitch:\n",
    "                    swap = DateSwitch[Format[i:j]]\n",
    "                    return swap + FormatDate(Date,Format[i+j:])\n",
    "            return Format[i] + FormatDate(Date,Format[1:])"
   ]
  },
  {
   "cell_type": "code",
   "execution_count": 11,
   "metadata": {},
   "outputs": [],
   "source": [
    "d = datetime.datetime(2002,2,2)\n",
    "FormatDate(d,\"DDvb-MMM-YYYY\")\n",
    "keys = ['MM', 'MMM', 'Mmm', 'DD', 'Dd', 'DDvb', 'YYYY', 'YY']"
   ]
  },
  {
   "cell_type": "code",
   "execution_count": 108,
   "metadata": {},
   "outputs": [],
   "source": [
    "def SplitFormat(Date,Format,*arg,**kw):\n",
    "    import collections\n",
    "    def GetSeparator(Format):\n",
    "        keys = ['MM', 'MMM', 'Mmm', 'DD', 'Dd', 'DDvb', 'YYYY', 'YY']\n",
    "        if not Format:\n",
    "            return \"\"\n",
    "        else:\n",
    "            slen=len(Format)\n",
    "            for i in range(0,slen):\n",
    "                for j in range(4,1,-1):\n",
    "                    if Format[i:j] in keys:\n",
    "                        return \"@\" + GetSeparator(Format[i+j:])\n",
    "                return Format[i] + GetSeparator(Format[1:])\n",
    "    \n",
    "    deq=collections.deque([i for i in GetSeparator(Format).split(\"@\") if i])\n",
    "    # Provide logic here to map date parts to desired format\n",
    "    # Deque to maintain FIFO\n",
    "    deq_cp=deq.copy()\n",
    "    while deq_cp:\n",
    "        a = deq_cp.popleft()\n",
    "        print(a)\n",
    "    return deq"
   ]
  },
  {
   "cell_type": "code",
   "execution_count": 109,
   "metadata": {},
   "outputs": [
    {
     "name": "stdout",
     "output_type": "stream",
     "text": [
      "1-1\n",
      "2-2\n",
      "3-3\n",
      "4-4\n"
     ]
    },
    {
     "data": {
      "text/plain": [
       "deque(['1-1', '2-2', '3-3', '4-4'])"
      ]
     },
     "execution_count": 109,
     "metadata": {},
     "output_type": "execute_result"
    }
   ],
   "source": [
    "SplitFormat(232,'DDvb1-1MMM2-2YYYY3-3DD4-4YY')"
   ]
  },
  {
   "cell_type": "code",
   "execution_count": null,
   "metadata": {},
   "outputs": [],
   "source": []
  },
  {
   "cell_type": "code",
   "execution_count": null,
   "metadata": {},
   "outputs": [],
   "source": []
  },
  {
   "cell_type": "code",
   "execution_count": null,
   "metadata": {},
   "outputs": [],
   "source": []
  },
  {
   "cell_type": "code",
   "execution_count": null,
   "metadata": {},
   "outputs": [],
   "source": []
  }
 ],
 "metadata": {
  "kernelspec": {
   "display_name": "Python 3",
   "language": "python",
   "name": "python3"
  },
  "language_info": {
   "codemirror_mode": {
    "name": "ipython",
    "version": 3
   },
   "file_extension": ".py",
   "mimetype": "text/x-python",
   "name": "python",
   "nbconvert_exporter": "python",
   "pygments_lexer": "ipython3",
   "version": "3.7.3"
  }
 },
 "nbformat": 4,
 "nbformat_minor": 2
}
